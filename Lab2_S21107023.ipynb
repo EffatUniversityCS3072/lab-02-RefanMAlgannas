{
  "cells": [
    {
      "cell_type": "markdown",
      "id": "83c958d8-1f3a-4536-9ffe-1e668a76f400",
      "metadata": {
        "id": "83c958d8-1f3a-4536-9ffe-1e668a76f400"
      },
      "source": [
        "### Student Name: Refan Algannas\n",
        "### ID: S21107023"
      ]
    },
    {
      "cell_type": "markdown",
      "id": "582fd51e",
      "metadata": {
        "id": "582fd51e"
      },
      "source": [
        "# Lab 2: numpy\n",
        "\n",
        "#### Practice Exercise 1\n",
        "\n",
        "Create the following NumPy arrays:\n",
        "1. A 1-D array called zeros having 10 elements and all the elements are set to zero.\n",
        "2. A 1-D array called vowels having the elements ‘a’, ‘e’, ‘i’, ‘o’ and ‘u’.\n",
        "3. A 2-D array called ones having 2 rows and 5 columns and all the elements are set to 1 and dtype as int.\n",
        "4. Use nested Python lists to create a 2-D array called myarray1 having 3 rows and 3 columns and store the following data: 2.7,  0,  -2,  3.4,  10.6,  0,  -19 99.9 13\n",
        "5. A 2-D array called myarray2 using arange() having 3 rows and 5 columns with start value = 4, step size 4 and dtype as float\n"
      ]
    },
    {
      "cell_type": "code",
      "execution_count": null,
      "id": "9195d139",
      "metadata": {
        "id": "9195d139",
        "outputId": "13c67658-da0a-47cc-e2d3-61e75c568037"
      },
      "outputs": [
        {
          "name": "stdout",
          "output_type": "stream",
          "text": [
            "Q1: [0 0 0 0 0 0 0 0 0 0] \n",
            " \n",
            " Q2: ['a' 'e' 'i' 'o' 'u'] \n",
            " \n",
            " Q3: [[1 1 1 1 1]\n",
            " [1 1 1 1 1]] \n",
            " \n",
            " Q4: [[  2.7   0.   -2. ]\n",
            " [  3.4  10.6   0. ]\n",
            " [-19.   99.9  13. ]] \n",
            " \n",
            " Q5: [[ 4.  8. 12. 16. 20.]\n",
            " [24. 28. 32. 36. 40.]\n",
            " [44. 48. 52. 56. 60.]]\n"
          ]
        }
      ],
      "source": [
        "# Write your answer here\n",
        "import numpy as np\n",
        "zeros = np.zeros(10, dtype= int)\n",
        "vowels = np.array(['a', 'e', 'i', 'o' ,'u'])\n",
        "ones = np.ones((2,5), dtype= int)\n",
        "myarray1 = np.array([\n",
        "    [2.7, 0, -2],\n",
        "    [3.4, 10.6, 0],\n",
        "    [-19, 99.9, 13]\n",
        "])\n",
        "myarray2 = np.arange(4, 4+15*4 ,4, dtype=float).reshape(3,5)\n",
        "\n",
        "print(\"Q1:\", zeros,\"\\n\", \"\\n\", \"Q2:\", vowels ,\"\\n\", \"\\n\",\"Q3:\", ones,\"\\n\",\"\\n\",\"Q4:\", myarray1,\"\\n\",\"\\n\",\"Q5:\", myarray2 )\n",
        "\n"
      ]
    },
    {
      "cell_type": "markdown",
      "id": "2d3fc3a8",
      "metadata": {
        "id": "2d3fc3a8"
      },
      "source": [
        "Using the arrays created in Question above, write NumPy commands for the following:\n",
        "1. Find the dimensions, shape, size, data type of the items and itemsize of arrays zeros, vowels, ones, myarray1 and myarray2.\n",
        "2. Reshape the array ones to have all the 10 elements in a single row.\n",
        "3. Display the 2nd and 3rd element of the array vowels.\n",
        "4. Display all elements in the 2nd and 3rd row of the array myarray1.\n",
        "5. Display the elements in the 1st and 2nd column of the array myarray1.\n",
        "6. Display the elements in the 1st column of the 2nd and 3rd row of the array myarray1.\n",
        "7. Reverse the array of vowels."
      ]
    },
    {
      "cell_type": "code",
      "execution_count": null,
      "id": "fc69c3db",
      "metadata": {
        "id": "fc69c3db",
        "outputId": "8407aa18-5ffb-42f7-b441-3e37e0f8fa4b"
      },
      "outputs": [
        {
          "name": "stdout",
          "output_type": "stream",
          "text": [
            "Q1:\n",
            "zeros: \n",
            "  dimensions: 1 \n",
            " shape: (10,) \n",
            " size: 10 \n",
            " data type: int32 \n",
            " itemsize: 4 \n",
            "\n",
            "vowels: \n",
            "  dimensions: 1 \n",
            " shape: (5,) \n",
            " size: 5 \n",
            " data type: <U1 \n",
            " itemsize: 4 \n",
            "\n",
            "ones: \n",
            "  dimensions: 2 \n",
            " shape: (2, 5) \n",
            " size: 10 \n",
            " data type: int32 \n",
            " itemsize: 4 \n",
            "\n",
            "myarray1: \n",
            "  dimensions: 2 \n",
            " shape: (3, 3) \n",
            " size: 9 \n",
            " data type: float64 \n",
            " itemsize: 8 \n",
            "\n",
            "myarray2: \n",
            "  dimensions: 2 \n",
            " shape: (3, 5) \n",
            " size: 15 \n",
            " data type: float64 \n",
            " itemsize: 8 \n",
            "\n",
            "Q2: [1 1 1 1 1 1 1 1 1 1]\n",
            "\n",
            " Q3: ['e' 'i']\n",
            "\n",
            " Q4: [[  3.4  10.6   0. ]\n",
            " [-19.   99.9  13. ]]\n",
            "\n",
            " Q5: [[  2.7   0. ]\n",
            " [  3.4  10.6]\n",
            " [-19.   99.9]]\n",
            "\n",
            " Q6: [[  3.4]\n",
            " [-19. ]]\n",
            "\n",
            " Q7: ['u' 'o' 'i' 'e' 'a']\n"
          ]
        }
      ],
      "source": [
        "#Q1\n",
        "print(\"Q1:\")\n",
        "print(\"zeros:\",\"\\n\", \" dimensions:\", zeros.ndim, \"\\n\", \"shape:\", zeros.shape, \"\\n\", \"size:\", zeros.size, \"\\n\", \"data type:\", zeros.dtype, \"\\n\", \"itemsize:\", zeros.itemsize, \"\\n\")\n",
        "print(\"vowels:\",\"\\n\",\" dimensions:\", vowels.ndim, \"\\n\", \"shape:\", vowels.shape, \"\\n\", \"size:\", vowels.size, \"\\n\", \"data type:\", vowels.dtype, \"\\n\", \"itemsize:\", vowels.itemsize, \"\\n\")\n",
        "print(\"ones:\" ,\"\\n\",\" dimensions:\", ones.ndim, \"\\n\", \"shape:\", ones.shape, \"\\n\", \"size:\", ones.size, \"\\n\", \"data type:\", ones.dtype, \"\\n\", \"itemsize:\", ones.itemsize, \"\\n\")\n",
        "print(\"myarray1:\" ,\"\\n\",\" dimensions:\", myarray1.ndim, \"\\n\", \"shape:\", myarray1.shape, \"\\n\", \"size:\", myarray1.size, \"\\n\", \"data type:\", myarray1.dtype, \"\\n\", \"itemsize:\", myarray1.itemsize, \"\\n\")\n",
        "print(\"myarray2:\",\"\\n\",\" dimensions:\", myarray2.ndim, \"\\n\", \"shape:\", myarray2.shape, \"\\n\", \"size:\", myarray2.size, \"\\n\", \"data type:\", myarray2.dtype, \"\\n\", \"itemsize:\", myarray2.itemsize, \"\\n\")\n",
        "\n",
        "#Q2\n",
        "print(\"Q2:\", ones.reshape(10,))\n",
        "\n",
        "#Q3\n",
        "print(\"\\n\",\"Q3:\",vowels[1:3])\n",
        "\n",
        "#Q4\n",
        "print(\"\\n\",\"Q4:\",myarray1[1:3])\n",
        "\n",
        "\n",
        "#Q5\n",
        "print(\"\\n\",\"Q5:\",myarray1[:, :2 ])\n",
        "\n",
        "#Q6\n",
        "print(\"\\n\",\"Q6:\",myarray1[1:4 , 0:1 ])\n",
        "\n",
        "#Q7\n",
        "print(\"\\n\",\"Q7:\",vowels[::-1])\n"
      ]
    },
    {
      "cell_type": "markdown",
      "id": "e1edb3bb",
      "metadata": {
        "id": "e1edb3bb"
      },
      "source": [
        "Using the arrays created in Question above, write NumPy commands for the following:\n",
        "1. Divide all elements of array ones by 3.\n",
        "2. Add the arrays myarray1 and myarray2.\n",
        "3. Subtract myarray1 from myarray2 and store the result in a new array.\n",
        "4. Multiply myarray1 and myarray2 elementwise.\n",
        "5. Do the matrix multiplication of myarray1 and myarray2 and store the result in a new array myarray3.\n",
        "6. Divide myarray1 by myarray2.\n",
        "7. Find the cube of all elements of myarray1 and divide the resulting array by 2.\n",
        "8. Find the square root of all elements of myarray2   and divide the resulting array by 2. The result  should be rounded to two places of decimals."
      ]
    },
    {
      "cell_type": "code",
      "execution_count": null,
      "id": "3c933386",
      "metadata": {
        "id": "3c933386",
        "outputId": "e383efb9-06f3-4936-e086-25d84da80166"
      },
      "outputs": [
        {
          "name": "stdout",
          "output_type": "stream",
          "text": [
            "Q1: [[0.33333333 0.33333333 0.33333333 0.33333333 0.33333333]\n",
            " [0.33333333 0.33333333 0.33333333 0.33333333 0.33333333]]\n",
            "\n",
            " Q2: [[  6.7   8.   10. ]\n",
            " [ 27.4  38.6  32. ]\n",
            " [ 25.  147.9  65. ]]\n",
            "\n",
            " Q3: [[  1.3   8.   14. ]\n",
            " [ 20.6  17.4  32. ]\n",
            " [ 63.  -51.9  39. ]]\n",
            "\n",
            " Q4:  [[  10.8    0.   -24. ]\n",
            " [  81.6  296.8    0. ]\n",
            " [-836.  4795.2  676. ]] \n",
            "\n",
            "\n",
            " Q5:  [[-743.6 4650.   564. ]\n",
            " [-795.2 5092.   608. ]\n",
            " [-846.8 5534.   652. ]\n",
            " [-898.4 5976.   696. ]\n",
            " [-950.  6418.   740. ]] \n",
            "\n",
            "\n",
            " Q6:  [[ 0.675       0.         -0.16666667]\n",
            " [ 0.14166667  0.37857143  0.        ]\n",
            " [-0.43181818  2.08125     0.25      ]] \n",
            "\n",
            "\n",
            " Q7:  [[ 9.841500e+00  0.000000e+00 -4.000000e+00]\n",
            " [ 1.965200e+01  5.955080e+02  0.000000e+00]\n",
            " [-3.429500e+03  4.985015e+05  1.098500e+03]] \n",
            "\n",
            "\n",
            " Q8:  [[1.   1.41 1.73 2.   2.24]\n",
            " [2.45 2.65 2.83 3.   3.16]\n",
            " [3.32 3.46 3.61 3.74 3.87]]\n"
          ]
        }
      ],
      "source": [
        "# Write your answer here\n",
        "#Q1\n",
        "print(\"Q1:\", ones/3 )\n",
        "\n",
        "#Q2\n",
        "print(\"\\n\", \"Q2:\", myarray1 + myarray2[:,:3])\n",
        "\n",
        "#Q3\n",
        "newarray = myarray2[:,:3] - myarray1\n",
        "print(\"\\n\", \"Q3:\", newarray)\n",
        "\n",
        "#Q4\n",
        "elementwise_mult = myarray1 * myarray2[:,:3]\n",
        "print(\"\\n\", \"Q4: \", elementwise_mult, \"\\n\")\n",
        "\n",
        "#Q5\n",
        "myarray3 = np.dot(myarray2.T, myarray1 )\n",
        "print(\"\\n\", \"Q5: \", myarray3, \"\\n\")\n",
        "\n",
        "#Q6\n",
        "divided_arrays = myarray1 / myarray2[:,:3]\n",
        "print(\"\\n\", \"Q6: \", divided_arrays, \"\\n\")\n",
        "\n",
        "#Q7\n",
        "print(\"\\n\", \"Q7: \", (myarray1 ** 3) / 2 , \"\\n\")\n",
        "\n",
        "#Q8\n",
        "print(\"\\n\" , \"Q8: \",np.round(np.sqrt(myarray2) / 2,2))\n"
      ]
    },
    {
      "cell_type": "markdown",
      "id": "d8aafc74",
      "metadata": {
        "id": "d8aafc74"
      },
      "source": [
        "Using the arrays created above, write NumPy commands for the following:\n",
        "1. Find the transpose of ones and myarray2.\n",
        "2. Sort the array vowels in reverse.\n",
        "3. Sort the array myarray1 such that it brings the lowest value of the column in the first row and so on."
      ]
    },
    {
      "cell_type": "code",
      "execution_count": null,
      "id": "573c6506",
      "metadata": {
        "id": "573c6506",
        "outputId": "2b3b5982-fe81-4406-8e4c-cc9b03a6c35a"
      },
      "outputs": [
        {
          "name": "stdout",
          "output_type": "stream",
          "text": [
            "Q1:\n",
            "[[1 1]\n",
            " [1 1]\n",
            " [1 1]\n",
            " [1 1]\n",
            " [1 1]] \n",
            " [[ 4. 24. 44.]\n",
            " [ 8. 28. 48.]\n",
            " [12. 32. 52.]\n",
            " [16. 36. 56.]\n",
            " [20. 40. 60.]]\n",
            "Q1: ['u' 'o' 'i' 'e' 'a'] \n",
            "\n",
            "\n",
            "Sorted myarray1:\n",
            " [[-19.    0.   -2. ]\n",
            " [  2.7  10.6   0. ]\n",
            " [  3.4  99.9  13. ]]\n"
          ]
        }
      ],
      "source": [
        "# Write your answer here\n",
        "#Q1\n",
        "print(\"Q1:\")\n",
        "print( ones.T ,\"\\n\", myarray2.T )\n",
        "print(\"Q1:\", vowels[::-1] ,\"\\n\")\n",
        "\n",
        "\n",
        "sorted_indices = np.argsort(myarray1, axis=0)\n",
        "sorted_myarray1 = myarray1[sorted_indices, np.arange(myarray1.shape[1])]\n",
        "print(\"\\nSorted myarray1:\\n\", sorted_myarray1)"
      ]
    },
    {
      "cell_type": "markdown",
      "id": "93546856",
      "metadata": {
        "id": "93546856"
      },
      "source": [
        "Create a 2-D array called myarray4 using arange() having 14 rows and 3 columns with start value = -1, step size 0.25 having. Split this array row wise into 3 equal parts and print the result."
      ]
    },
    {
      "cell_type": "code",
      "execution_count": null,
      "id": "441dd934",
      "metadata": {
        "id": "441dd934",
        "outputId": "6cf49b4e-5a5a-4099-e398-8012ac6b4557"
      },
      "outputs": [
        {
          "data": {
            "text/plain": [
              "[array([[-1.  , -0.75, -0.5 ],\n",
              "        [-0.25,  0.  ,  0.25],\n",
              "        [ 0.5 ,  0.75,  1.  ],\n",
              "        [ 1.25,  1.5 ,  1.75],\n",
              "        [ 2.  ,  2.25,  2.5 ]]),\n",
              " array([[2.75, 3.  , 3.25],\n",
              "        [3.5 , 3.75, 4.  ],\n",
              "        [4.25, 4.5 , 4.75],\n",
              "        [5.  , 5.25, 5.5 ],\n",
              "        [5.75, 6.  , 6.25]]),\n",
              " array([[6.5 , 6.75, 7.  ],\n",
              "        [7.25, 7.5 , 7.75],\n",
              "        [8.  , 8.25, 8.5 ],\n",
              "        [8.75, 9.  , 9.25]])]"
            ]
          },
          "execution_count": 78,
          "metadata": {},
          "output_type": "execute_result"
        }
      ],
      "source": [
        "# Write your answer here\n",
        "\n",
        "myarray4 = np.arange(-1, -1 + 42 * 0.25, 0.25).reshape(14, 3)\n",
        "np.array_split(myarray4, 3)"
      ]
    },
    {
      "cell_type": "markdown",
      "id": "c8cdbaff",
      "metadata": {
        "id": "c8cdbaff"
      },
      "source": [
        "Using the myarray4 created in the above questions, write commands for the following:\n",
        "1. Find the sum of all elements.\n",
        "2. Find the sum of all elements row wise\n",
        "3. Find the sum of all elements column wise.\n",
        "4. Find the max of all elements.\n",
        "5. Find the min of all elements in each row.\n",
        "6. Find the mean of all elements in each row.\n",
        "7. Find the standard deviation column wise."
      ]
    },
    {
      "cell_type": "code",
      "execution_count": null,
      "id": "66af8b55",
      "metadata": {
        "id": "66af8b55",
        "outputId": "89995a00-ac43-4c39-dbdd-bafd1cc08a5d"
      },
      "outputs": [
        {
          "name": "stdout",
          "output_type": "stream",
          "text": [
            "Q1:  173.25 \n",
            "\n",
            "Q2:  [-2.25  0.    2.25  4.5   6.75  9.   11.25 13.5  15.75 18.   20.25 22.5\n",
            " 24.75 27.  ] \n",
            "\n",
            "Q3:  [54.25 57.75 61.25] \n",
            "\n",
            "Q4:  9.25 \n",
            "\n",
            "Q5:  [-1.   -0.25  0.5   1.25  2.    2.75  3.5   4.25  5.    5.75  6.5   7.25\n",
            "  8.    8.75] \n",
            "\n",
            "Q6:  [-0.75  0.    0.75  1.5   2.25  3.    3.75  4.5   5.25  6.    6.75  7.5\n",
            "  8.25  9.  ] \n",
            "\n",
            "Q7:  [3.02334666 3.02334666 3.02334666]\n"
          ]
        }
      ],
      "source": [
        "# Write your answer here\n",
        "\n",
        "print(\"Q1: \", np.sum(myarray4), \"\\n\")\n",
        "print(\"Q2: \", np.sum(myarray4, axis=1), \"\\n\")\n",
        "print(\"Q3: \", np.sum(myarray4, axis=0), \"\\n\")\n",
        "print(\"Q4: \", np.max(myarray4), \"\\n\")\n",
        "print(\"Q5: \", np.min(myarray4, axis=1), \"\\n\")\n",
        "print(\"Q6: \", np.mean(myarray4, axis=1), \"\\n\")\n",
        "print(\"Q7: \", np.std(myarray4, axis=0))\n"
      ]
    },
    {
      "cell_type": "markdown",
      "id": "8d7e1dca",
      "metadata": {
        "id": "8d7e1dca"
      },
      "source": [
        "#### Practice Exercise 2\n",
        "Read the coordinates of the capital cities of the world from the country-capital-lat-long-population.csv file. Use NumPy to print the name and coordinates of the capital city closest to the Saudi Arabia capital - Riyadh.\n",
        "\n",
        "Note that:\n",
        "\n",
        "1. The Country Name for Saudi Arabia is given as Saudi Arabia in the data.\n",
        "2. The ‘closeness’ of capital cities from the Saudi Arabia capital is based on the Euclidean distance of their coordinates to those of the Saudi Arabia capital.\n",
        "\n",
        "\n",
        "Hints:\n",
        "\n",
        "1. Use read_html() from the Pandas library to read the table.\n",
        "2. Use the to_numpy() function of the Pandas DataFrame class to convert a DataFrame to a Numpy array\n",
        "3. Use broadcasting to compute the euclidean distance of capital cities from Riyadh."
      ]
    },
    {
      "cell_type": "code",
      "execution_count": null,
      "id": "ab6b9725",
      "metadata": {
        "id": "ab6b9725",
        "outputId": "8b8a5030-7356-4b11-e94b-6bdfd9ae5bab"
      },
      "outputs": [
        {
          "data": {
            "text/plain": [
              "Country                     Bahrain\n",
              "Capital City    Al-Manamah (Manama)\n",
              "Latitude                    26.2154\n",
              "Longitude                   50.5832\n",
              "Population                   564631\n",
              "Capital Type                Capital\n",
              "Name: 15, dtype: object"
            ]
          },
          "execution_count": 84,
          "metadata": {},
          "output_type": "execute_result"
        }
      ],
      "source": [
        "# Write your answer here\n",
        "import pandas as pd\n",
        "import numpy as np\n",
        "capitals = pd.read_csv('country-capital-lat-long-population.csv')\n",
        "capitals.head()\n",
        "\n",
        "capitals_location = capitals.loc[:,['Latitude','Longitude']].to_numpy()\n",
        "KSA_locations = capitals.loc[capitals.Country == 'Saudi Arabia',['Latitude','Longitude']].to_numpy()\n",
        "\n",
        "distance_from_riyadh = np.sqrt(np.sum((KSA_locations - capitals_location)**2,axis=1))\n",
        "distance_from_riyadh[distance_from_riyadh ==0]=9999\n",
        "\n",
        "closest = np.argmin(distance_from_riyadh)\n",
        "\n",
        "capitals.iloc[closest,:]"
      ]
    },
    {
      "cell_type": "markdown",
      "id": "1fdbec05",
      "metadata": {
        "id": "1fdbec05"
      },
      "source": [
        "#### Practical Exercise 2\n",
        "\n",
        "Use NumPy to:\n",
        "\n",
        "1. Print the names of the countries of the top 10 capital cities closest to the US capital - Washington DC.\n",
        "\n",
        "2. Create and print a NumPy array containing the coordinates of the top 10 cities."
      ]
    },
    {
      "cell_type": "code",
      "execution_count": null,
      "id": "45046a85",
      "metadata": {
        "id": "45046a85",
        "outputId": "dbe13761-2296-42d7-d729-0458af196df4"
      },
      "outputs": [
        {
          "name": "stdout",
          "output_type": "stream",
          "text": [
            "                       Country        Capital City  Latitude  Longitude  \\\n",
            "36                      Canada     Ottawa-Gatineau   45.4166   -75.6980   \n",
            "14                     Bahamas              Nassau   25.0582   -77.3431   \n",
            "22                     Bermuda            Hamilton   32.2915   -64.7780   \n",
            "55                        Cuba  La Habana (Havana)   23.1195   -82.3785   \n",
            "215   Turks and Caicos Islands       Cockburn Town   21.4612   -71.1419   \n",
            "38              Cayman Islands         George Town   19.2866   -81.3744   \n",
            "94                       Haiti      Port-au-Prince   18.5392   -72.3350   \n",
            "107                    Jamaica            Kingston   17.9970   -76.7936   \n",
            "64          Dominican Republic       Santo Domingo   18.4896   -69.9018   \n",
            "177  Saint Pierre and Miquelon        Saint-Pierre   46.7738   -56.1815   \n",
            "\n",
            "     Population Capital Type  \n",
            "36      1363159      Capital  \n",
            "14       279668      Capital  \n",
            "22        10073      Capital  \n",
            "55      2136468      Capital  \n",
            "215        5447      Capital  \n",
            "38        34875      Capital  \n",
            "94      2636763      Capital  \n",
            "107      589083      Capital  \n",
            "64      3172152      Capital  \n",
            "177        5723      Capital  \n"
          ]
        }
      ],
      "source": [
        "\n",
        "closest_capitals = []\n",
        "\n",
        "capitals_location = capitals.loc[:,['Latitude','Longitude']].to_numpy()\n",
        "US_locations = capitals.loc[capitals.Country == 'United States of America',['Latitude','Longitude']].to_numpy()\n",
        "\n",
        "\n",
        "\n",
        "# Loop 10 times to find the 10 closest capitals\n",
        "for i in range(10):\n",
        "    distance_from_washington = np.sqrt(np.sum((US_locations - capitals_location)**2,axis=1))\n",
        "    distance_from_washington[distance_from_washington ==0]=9999\n",
        "\n",
        "    closest = np.argmin(distance_from_washington)\n",
        "\n",
        "    closest_capitals.append(capitals.iloc[closest, :])\n",
        "\n",
        "    capitals_location[closest] = [9999, 9999]  # This will ensure it's not picked again\n",
        "closest_capitals_df = pd.DataFrame(closest_capitals)\n",
        "\n",
        "print(closest_capitals_df)\n"
      ]
    }
  ],
  "metadata": {
    "kernelspec": {
      "display_name": "Python 3 (ipykernel)",
      "language": "python",
      "name": "python3"
    },
    "language_info": {
      "codemirror_mode": {
        "name": "ipython",
        "version": 3
      },
      "file_extension": ".py",
      "mimetype": "text/x-python",
      "name": "python",
      "nbconvert_exporter": "python",
      "pygments_lexer": "ipython3",
      "version": "3.12.4"
    },
    "colab": {
      "provenance": []
    }
  },
  "nbformat": 4,
  "nbformat_minor": 5
}